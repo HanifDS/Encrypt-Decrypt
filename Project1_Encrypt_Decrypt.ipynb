{
 "cells": [
  {
   "cell_type": "code",
   "execution_count": 22,
   "metadata": {},
   "outputs": [
    {
     "data": {
      "text/plain": [
       "'/Users/hanifk/BC#3 2021/Project'"
      ]
     },
     "execution_count": 22,
     "metadata": {},
     "output_type": "execute_result"
    }
   ],
   "source": [
    "import os\n",
    "os.getcwd()"
   ]
  },
  {
   "cell_type": "code",
   "execution_count": 23,
   "metadata": {},
   "outputs": [
    {
     "data": {
      "text/plain": [
       "['Project1_Encryption_Decryption (1).ipynb',\n",
       " 'Untitled1.ipynb',\n",
       " 'Untitled.ipynb',\n",
       " 'Encrypted.ipynb',\n",
       " 'Project1_Encryption_Decryption (1)-Copy1.ipynb',\n",
       " '.ipynb_checkpoints',\n",
       " 'decodekeynew.csv',\n",
       " 'My_Encrypter.ipynb']"
      ]
     },
     "execution_count": 23,
     "metadata": {},
     "output_type": "execute_result"
    }
   ],
   "source": [
    "os.listdir()"
   ]
  },
  {
   "cell_type": "code",
   "execution_count": 24,
   "metadata": {},
   "outputs": [
    {
     "data": {
      "text/html": [
       "<div>\n",
       "<style scoped>\n",
       "    .dataframe tbody tr th:only-of-type {\n",
       "        vertical-align: middle;\n",
       "    }\n",
       "\n",
       "    .dataframe tbody tr th {\n",
       "        vertical-align: top;\n",
       "    }\n",
       "\n",
       "    .dataframe thead th {\n",
       "        text-align: right;\n",
       "    }\n",
       "</style>\n",
       "<table border=\"1\" class=\"dataframe\">\n",
       "  <thead>\n",
       "    <tr style=\"text-align: right;\">\n",
       "      <th></th>\n",
       "      <th>Character</th>\n",
       "      <th>Byte</th>\n",
       "    </tr>\n",
       "  </thead>\n",
       "  <tbody>\n",
       "    <tr>\n",
       "      <th>0</th>\n",
       "      <td></td>\n",
       "      <td>20</td>\n",
       "    </tr>\n",
       "    <tr>\n",
       "      <th>1</th>\n",
       "      <td>!</td>\n",
       "      <td>21</td>\n",
       "    </tr>\n",
       "    <tr>\n",
       "      <th>2</th>\n",
       "      <td>\"</td>\n",
       "      <td>22</td>\n",
       "    </tr>\n",
       "    <tr>\n",
       "      <th>3</th>\n",
       "      <td>#</td>\n",
       "      <td>23</td>\n",
       "    </tr>\n",
       "    <tr>\n",
       "      <th>4</th>\n",
       "      <td>$</td>\n",
       "      <td>24</td>\n",
       "    </tr>\n",
       "    <tr>\n",
       "      <th>...</th>\n",
       "      <td>...</td>\n",
       "      <td>...</td>\n",
       "    </tr>\n",
       "    <tr>\n",
       "      <th>987</th>\n",
       "      <td>Є</td>\n",
       "      <td>d084</td>\n",
       "    </tr>\n",
       "    <tr>\n",
       "      <th>988</th>\n",
       "      <td>Ѕ</td>\n",
       "      <td>d085</td>\n",
       "    </tr>\n",
       "    <tr>\n",
       "      <th>989</th>\n",
       "      <td>І</td>\n",
       "      <td>d086</td>\n",
       "    </tr>\n",
       "    <tr>\n",
       "      <th>990</th>\n",
       "      <td>Ї</td>\n",
       "      <td>d087</td>\n",
       "    </tr>\n",
       "    <tr>\n",
       "      <th>991</th>\n",
       "      <td>Ј</td>\n",
       "      <td>d088</td>\n",
       "    </tr>\n",
       "  </tbody>\n",
       "</table>\n",
       "<p>992 rows × 2 columns</p>\n",
       "</div>"
      ],
      "text/plain": [
       "    Character  Byte\n",
       "0                20\n",
       "1           !    21\n",
       "2           \"    22\n",
       "3           #    23\n",
       "4           $    24\n",
       "..        ...   ...\n",
       "987         Є  d084\n",
       "988         Ѕ  d085\n",
       "989         І  d086\n",
       "990         Ї  d087\n",
       "991         Ј  d088\n",
       "\n",
       "[992 rows x 2 columns]"
      ]
     },
     "execution_count": 24,
     "metadata": {},
     "output_type": "execute_result"
    }
   ],
   "source": [
    "import pandas as pd\n",
    "df = pd.read_csv('decodekeynew.csv')\n",
    "df"
   ]
  },
  {
   "cell_type": "code",
   "execution_count": 2,
   "metadata": {},
   "outputs": [],
   "source": [
    "plaintext = \"Lets test functions\""
   ]
  },
  {
   "cell_type": "code",
   "execution_count": 3,
   "metadata": {},
   "outputs": [],
   "source": [
    "def grinder(x):\n",
    "    \"\"\" It takes the string and splits it into  a list of individual characters\"\"\"\n",
    "    y = [i for i in x]\n",
    "    return y\n",
    "\n"
   ]
  },
  {
   "cell_type": "code",
   "execution_count": 132,
   "metadata": {},
   "outputs": [
    {
     "data": {
      "text/plain": [
       "['J', 'u', 'l', 'y', ' ', 'i', 's', ' ', 'h', 'o', 't']"
      ]
     },
     "execution_count": 132,
     "metadata": {},
     "output_type": "execute_result"
    }
   ],
   "source": [
    "grinder(\"July is hot\")"
   ]
  },
  {
   "cell_type": "code",
   "execution_count": 153,
   "metadata": {},
   "outputs": [],
   "source": [
    "def converter(lst):\n",
    "    bytes_list = []\n",
    "    for i in lst:\n",
    "        bytes_list.append(((df[df[\"Character\"]==i].Byte.values.tolist())))\n",
    "    return bytes_list\n",
    "\n",
    "\n",
    "    "
   ]
  },
  {
   "cell_type": "code",
   "execution_count": 155,
   "metadata": {},
   "outputs": [
    {
     "data": {
      "text/plain": [
       "[['53'],\n",
       " ['75'],\n",
       " ['6d'],\n",
       " ['6d'],\n",
       " ['65'],\n",
       " ['72'],\n",
       " ['20'],\n",
       " ['69'],\n",
       " ['73'],\n",
       " ['20'],\n",
       " ['68'],\n",
       " ['6f'],\n",
       " ['74']]"
      ]
     },
     "execution_count": 155,
     "metadata": {},
     "output_type": "execute_result"
    }
   ],
   "source": [
    "converter(grinder(\"Summer is hot\"))"
   ]
  },
  {
   "cell_type": "code",
   "execution_count": 163,
   "metadata": {
    "scrolled": true
   },
   "outputs": [],
   "source": [
    "\"\"\"One function that takes the user input and outputs the encrypted numbers\"\"\"\n",
    "\n",
    "def encrypt_text(x):\n",
    "    x = input()\n",
    "    return \"\".join(flatten(converter(grinder(x))))\n",
    "    \n",
    "    \n"
   ]
  },
  {
   "cell_type": "code",
   "execution_count": 1,
   "metadata": {},
   "outputs": [
    {
     "ename": "NameError",
     "evalue": "name 'encrypt_text' is not defined",
     "output_type": "error",
     "traceback": [
      "\u001b[0;31m---------------------------------------------------------------------------\u001b[0m",
      "\u001b[0;31mNameError\u001b[0m                                 Traceback (most recent call last)",
      "\u001b[0;32m<ipython-input-1-f2d37daeae16>\u001b[0m in \u001b[0;36m<module>\u001b[0;34m\u001b[0m\n\u001b[0;32m----> 1\u001b[0;31m \u001b[0mencrypt_text\u001b[0m\u001b[0;34m(\u001b[0m\u001b[0;34m\"Summer is hot\"\u001b[0m\u001b[0;34m)\u001b[0m\u001b[0;34m\u001b[0m\u001b[0;34m\u001b[0m\u001b[0m\n\u001b[0m",
      "\u001b[0;31mNameError\u001b[0m: name 'encrypt_text' is not defined"
     ]
    }
   ],
   "source": [
    "encrypt_text(\"Summer is hot\")"
   ]
  },
  {
   "cell_type": "code",
   "execution_count": 172,
   "metadata": {},
   "outputs": [
    {
     "data": {
      "text/plain": [
       "'496d2074657374696e672074686973206e65772070726f6772616d496d2074657374696e672074686973206e65772070726f6772616d496d2074657374696e672074686973206e65772070726f6772616d496d2074657374696e672074686973206e65772070726f6772616d4a756c7920697320686f744a4a'"
      ]
     },
     "execution_count": 172,
     "metadata": {},
     "output_type": "execute_result"
    }
   ],
   "source": [
    "encoded_message = \"\".join(flatten(bytes_list))\n",
    "encoded_message"
   ]
  },
  {
   "cell_type": "code",
   "execution_count": 173,
   "metadata": {},
   "outputs": [],
   "source": [
    "bytes_ek = df[\"Byte\"].tolist()"
   ]
  },
  {
   "cell_type": "code",
   "execution_count": 174,
   "metadata": {},
   "outputs": [],
   "source": [
    "def ciphertxt_chopper(encrypted_message):\n",
    "\n",
    "    cipher_lst = []\n",
    "    jump = 2\n",
    "    \n",
    "    for i in range(0, len(encrypted_message),jump):\n",
    "        jump = 2 # resets the jump for each iteration\n",
    "        a = encrypted_message[i:i+2]\n",
    "        b = encrypted_message[i:i+4]\n",
    "\n",
    "        if a in bytes_ek:\n",
    "            jump = 2 #defines next jump if 2 characters were used\n",
    "            cipher_lst.append(a)\n",
    "        else:\n",
    "            if b in bytes_ek:\n",
    "                jump = 4 #defines next jump if 4 characters were used\n",
    "                cipher_lst.append(b)\n",
    "    \n",
    "    return cipher_lst\n",
    "    "
   ]
  },
  {
   "cell_type": "code",
   "execution_count": 175,
   "metadata": {},
   "outputs": [
    {
     "data": {
      "text/plain": [
       "['49',\n",
       " '6d',\n",
       " '20',\n",
       " '74',\n",
       " '65',\n",
       " '73',\n",
       " '74',\n",
       " '69',\n",
       " '6e',\n",
       " '67',\n",
       " '20',\n",
       " '74',\n",
       " '68',\n",
       " '69',\n",
       " '73',\n",
       " '20',\n",
       " '6e',\n",
       " '65',\n",
       " '77',\n",
       " '20',\n",
       " '70',\n",
       " '72',\n",
       " '6f',\n",
       " '67',\n",
       " '72',\n",
       " '61',\n",
       " '6d',\n",
       " '49',\n",
       " '6d',\n",
       " '20',\n",
       " '74',\n",
       " '65',\n",
       " '73',\n",
       " '74',\n",
       " '69',\n",
       " '6e',\n",
       " '67',\n",
       " '20',\n",
       " '74',\n",
       " '68',\n",
       " '69',\n",
       " '73',\n",
       " '20',\n",
       " '6e',\n",
       " '65',\n",
       " '77',\n",
       " '20',\n",
       " '70',\n",
       " '72',\n",
       " '6f',\n",
       " '67',\n",
       " '72',\n",
       " '61',\n",
       " '6d',\n",
       " '49',\n",
       " '6d',\n",
       " '20',\n",
       " '74',\n",
       " '65',\n",
       " '73',\n",
       " '74',\n",
       " '69',\n",
       " '6e',\n",
       " '67',\n",
       " '20',\n",
       " '74',\n",
       " '68',\n",
       " '69',\n",
       " '73',\n",
       " '20',\n",
       " '6e',\n",
       " '65',\n",
       " '77',\n",
       " '20',\n",
       " '70',\n",
       " '72',\n",
       " '6f',\n",
       " '67',\n",
       " '72',\n",
       " '61',\n",
       " '6d',\n",
       " '49',\n",
       " '6d',\n",
       " '20',\n",
       " '74',\n",
       " '65',\n",
       " '73',\n",
       " '74',\n",
       " '69',\n",
       " '6e',\n",
       " '67',\n",
       " '20',\n",
       " '74',\n",
       " '68',\n",
       " '69',\n",
       " '73',\n",
       " '20',\n",
       " '6e',\n",
       " '65',\n",
       " '77',\n",
       " '20',\n",
       " '70',\n",
       " '72',\n",
       " '6f',\n",
       " '67',\n",
       " '72',\n",
       " '61',\n",
       " '6d',\n",
       " '4a',\n",
       " '75',\n",
       " '6c',\n",
       " '79',\n",
       " '20',\n",
       " '69',\n",
       " '73',\n",
       " '20',\n",
       " '68',\n",
       " '6f',\n",
       " '74',\n",
       " '4a',\n",
       " '4a']"
      ]
     },
     "execution_count": 175,
     "metadata": {},
     "output_type": "execute_result"
    }
   ],
   "source": [
    "lst1 = ciphertxt_chopper(encoded_message)\n",
    "lst1"
   ]
  },
  {
   "cell_type": "code",
   "execution_count": 183,
   "metadata": {},
   "outputs": [
    {
     "data": {
      "text/plain": [
       "[['I'],\n",
       " ['m'],\n",
       " [' '],\n",
       " ['t'],\n",
       " ['e'],\n",
       " ['s'],\n",
       " ['t'],\n",
       " ['i'],\n",
       " ['n'],\n",
       " ['g'],\n",
       " [' '],\n",
       " ['t'],\n",
       " ['h'],\n",
       " ['i'],\n",
       " ['s'],\n",
       " [' '],\n",
       " ['n'],\n",
       " ['e'],\n",
       " ['w'],\n",
       " [' '],\n",
       " ['p'],\n",
       " ['r'],\n",
       " ['o'],\n",
       " ['g'],\n",
       " ['r'],\n",
       " ['a'],\n",
       " ['m'],\n",
       " ['I'],\n",
       " ['m'],\n",
       " [' '],\n",
       " ['t'],\n",
       " ['e'],\n",
       " ['s'],\n",
       " ['t'],\n",
       " ['i'],\n",
       " ['n'],\n",
       " ['g'],\n",
       " [' '],\n",
       " ['t'],\n",
       " ['h'],\n",
       " ['i'],\n",
       " ['s'],\n",
       " [' '],\n",
       " ['n'],\n",
       " ['e'],\n",
       " ['w'],\n",
       " [' '],\n",
       " ['p'],\n",
       " ['r'],\n",
       " ['o'],\n",
       " ['g'],\n",
       " ['r'],\n",
       " ['a'],\n",
       " ['m'],\n",
       " ['I'],\n",
       " ['m'],\n",
       " [' '],\n",
       " ['t'],\n",
       " ['e'],\n",
       " ['s'],\n",
       " ['t'],\n",
       " ['i'],\n",
       " ['n'],\n",
       " ['g'],\n",
       " [' '],\n",
       " ['t'],\n",
       " ['h'],\n",
       " ['i'],\n",
       " ['s'],\n",
       " [' '],\n",
       " ['n'],\n",
       " ['e'],\n",
       " ['w'],\n",
       " [' '],\n",
       " ['p'],\n",
       " ['r'],\n",
       " ['o'],\n",
       " ['g'],\n",
       " ['r'],\n",
       " ['a'],\n",
       " ['m'],\n",
       " ['I'],\n",
       " ['m'],\n",
       " [' '],\n",
       " ['t'],\n",
       " ['e'],\n",
       " ['s'],\n",
       " ['t'],\n",
       " ['i'],\n",
       " ['n'],\n",
       " ['g'],\n",
       " [' '],\n",
       " ['t'],\n",
       " ['h'],\n",
       " ['i'],\n",
       " ['s'],\n",
       " [' '],\n",
       " ['n'],\n",
       " ['e'],\n",
       " ['w'],\n",
       " [' '],\n",
       " ['p'],\n",
       " ['r'],\n",
       " ['o'],\n",
       " ['g'],\n",
       " ['r'],\n",
       " ['a'],\n",
       " ['m'],\n",
       " ['J'],\n",
       " ['u'],\n",
       " ['l'],\n",
       " ['y'],\n",
       " [' '],\n",
       " ['i'],\n",
       " ['s'],\n",
       " [' '],\n",
       " ['h'],\n",
       " ['o'],\n",
       " ['t'],\n",
       " ['J'],\n",
       " ['J']]"
      ]
     },
     "execution_count": 183,
     "metadata": {},
     "output_type": "execute_result"
    }
   ],
   "source": [
    "def plain_output(x):\n",
    "    plaintxt_lst = []\n",
    "    for i in lst1:\n",
    "        plaintxt_lst.append(df[df[\"Byte\"]==i].Character.values.tolist())\n",
    "    \n",
    "plaintxt_lst"
   ]
  },
  {
   "cell_type": "code",
   "execution_count": 177,
   "metadata": {},
   "outputs": [
    {
     "data": {
      "text/plain": [
       "['I',\n",
       " 'm',\n",
       " ' ',\n",
       " 't',\n",
       " 'e',\n",
       " 's',\n",
       " 't',\n",
       " 'i',\n",
       " 'n',\n",
       " 'g',\n",
       " ' ',\n",
       " 't',\n",
       " 'h',\n",
       " 'i',\n",
       " 's',\n",
       " ' ',\n",
       " 'n',\n",
       " 'e',\n",
       " 'w',\n",
       " ' ',\n",
       " 'p',\n",
       " 'r',\n",
       " 'o',\n",
       " 'g',\n",
       " 'r',\n",
       " 'a',\n",
       " 'm',\n",
       " 'I',\n",
       " 'm',\n",
       " ' ',\n",
       " 't',\n",
       " 'e',\n",
       " 's',\n",
       " 't',\n",
       " 'i',\n",
       " 'n',\n",
       " 'g',\n",
       " ' ',\n",
       " 't',\n",
       " 'h',\n",
       " 'i',\n",
       " 's',\n",
       " ' ',\n",
       " 'n',\n",
       " 'e',\n",
       " 'w',\n",
       " ' ',\n",
       " 'p',\n",
       " 'r',\n",
       " 'o',\n",
       " 'g',\n",
       " 'r',\n",
       " 'a',\n",
       " 'm',\n",
       " 'I',\n",
       " 'm',\n",
       " ' ',\n",
       " 't',\n",
       " 'e',\n",
       " 's',\n",
       " 't',\n",
       " 'i',\n",
       " 'n',\n",
       " 'g',\n",
       " ' ',\n",
       " 't',\n",
       " 'h',\n",
       " 'i',\n",
       " 's',\n",
       " ' ',\n",
       " 'n',\n",
       " 'e',\n",
       " 'w',\n",
       " ' ',\n",
       " 'p',\n",
       " 'r',\n",
       " 'o',\n",
       " 'g',\n",
       " 'r',\n",
       " 'a',\n",
       " 'm',\n",
       " 'I',\n",
       " 'm',\n",
       " ' ',\n",
       " 't',\n",
       " 'e',\n",
       " 's',\n",
       " 't',\n",
       " 'i',\n",
       " 'n',\n",
       " 'g',\n",
       " ' ',\n",
       " 't',\n",
       " 'h',\n",
       " 'i',\n",
       " 's',\n",
       " ' ',\n",
       " 'n',\n",
       " 'e',\n",
       " 'w',\n",
       " ' ',\n",
       " 'p',\n",
       " 'r',\n",
       " 'o',\n",
       " 'g',\n",
       " 'r',\n",
       " 'a',\n",
       " 'm',\n",
       " 'J',\n",
       " 'u',\n",
       " 'l',\n",
       " 'y',\n",
       " ' ',\n",
       " 'i',\n",
       " 's',\n",
       " ' ',\n",
       " 'h',\n",
       " 'o',\n",
       " 't',\n",
       " 'J',\n",
       " 'J']"
      ]
     },
     "execution_count": 177,
     "metadata": {},
     "output_type": "execute_result"
    }
   ],
   "source": [
    "def flatten(lst):\n",
    "    flatten_plaintxt = [j for i in lst for j in i]\n",
    "    return flatten_plaintxt\n",
    "\n",
    "test1 = flatten(plaintxt_lst)\n",
    "test1"
   ]
  },
  {
   "cell_type": "code",
   "execution_count": 129,
   "metadata": {},
   "outputs": [
    {
     "data": {
      "text/plain": [
       "'Im testing this new program'"
      ]
     },
     "execution_count": 129,
     "metadata": {},
     "output_type": "execute_result"
    }
   ],
   "source": [
    "a = \"\".join(test1) \n",
    "a"
   ]
  },
  {
   "cell_type": "code",
   "execution_count": 179,
   "metadata": {},
   "outputs": [
    {
     "ename": "SyntaxError",
     "evalue": "unexpected EOF while parsing (<ipython-input-179-38eaa143f366>, line 5)",
     "output_type": "error",
     "traceback": [
      "\u001b[0;36m  File \u001b[0;32m\"<ipython-input-179-38eaa143f366>\"\u001b[0;36m, line \u001b[0;32m5\u001b[0m\n\u001b[0;31m    \u001b[0m\n\u001b[0m    ^\u001b[0m\n\u001b[0;31mSyntaxError\u001b[0m\u001b[0;31m:\u001b[0m unexpected EOF while parsing\n"
     ]
    }
   ],
   "source": [
    "def decryption(x):\n",
    "    x = input()\n",
    "    return \"\".join(flatten((plaintxt_lst(ciphertxt_chopper(x))\n",
    "           \n",
    "    "
   ]
  },
  {
   "cell_type": "code",
   "execution_count": 182,
   "metadata": {},
   "outputs": [
    {
     "name": "stdout",
     "output_type": "stream",
     "text": [
      "496d2074657374696e672074686973206e65772070726f6772616d496d2074657374696e672074686973206e65772070726f6772616d496d2074657374696e672074686973206e65772070726f6772616d496d2074657374696e672074686973206e65772070726f6772616d4a756c7920697320686f744a4a\n"
     ]
    },
    {
     "data": {
      "text/plain": [
       "'496d2074657374696e672074686973206e65772070726f6772616d496d2074657374696e672074686973206e65772070726f6772616d496d2074657374696e672074686973206e65772070726f6772616d496d2074657374696e672074686973206e65772070726f6772616d4a756c7920697320686f744a4a'"
      ]
     },
     "execution_count": 182,
     "metadata": {},
     "output_type": "execute_result"
    }
   ],
   "source": [
    "decryption('9999')"
   ]
  },
  {
   "cell_type": "code",
   "execution_count": null,
   "metadata": {},
   "outputs": [],
   "source": []
  },
  {
   "cell_type": "code",
   "execution_count": null,
   "metadata": {},
   "outputs": [],
   "source": []
  },
  {
   "cell_type": "code",
   "execution_count": null,
   "metadata": {},
   "outputs": [],
   "source": []
  },
  {
   "cell_type": "code",
   "execution_count": null,
   "metadata": {},
   "outputs": [],
   "source": []
  },
  {
   "cell_type": "code",
   "execution_count": null,
   "metadata": {},
   "outputs": [],
   "source": []
  },
  {
   "cell_type": "code",
   "execution_count": null,
   "metadata": {},
   "outputs": [],
   "source": []
  },
  {
   "cell_type": "code",
   "execution_count": null,
   "metadata": {},
   "outputs": [],
   "source": []
  },
  {
   "cell_type": "code",
   "execution_count": null,
   "metadata": {},
   "outputs": [],
   "source": []
  }
 ],
 "metadata": {
  "kernelspec": {
   "display_name": "Python 3",
   "language": "python",
   "name": "python3"
  },
  "language_info": {
   "codemirror_mode": {
    "name": "ipython",
    "version": 3
   },
   "file_extension": ".py",
   "mimetype": "text/x-python",
   "name": "python",
   "nbconvert_exporter": "python",
   "pygments_lexer": "ipython3",
   "version": "3.8.5"
  }
 },
 "nbformat": 4,
 "nbformat_minor": 5
}
